{
 "cells": [
  {
   "cell_type": "markdown",
   "id": "6ac342e0-eae2-4475-a7ee-9c6ffde0e7f0",
   "metadata": {},
   "source": [
    "# Scripts for editors\n",
    "\n",
    "- lookup a title on the **arxiv** and return an abstract\n",
    "- get the **MSC** classifications"
   ]
  },
  {
   "cell_type": "code",
   "execution_count": 1,
   "id": "aacb12ff-0cc7-4325-9ccb-40821bbcd8a7",
   "metadata": {},
   "outputs": [],
   "source": [
    "import requests\n",
    "import re\n"
   ]
  },
  {
   "cell_type": "markdown",
   "id": "569c781b-84f5-4085-8e31-e59e2231b4c8",
   "metadata": {},
   "source": [
    "#  Lookup arxiv\n",
    "\n",
    "\n",
    "Do an **arxiv** search for the title and attempt to return the abstract\n",
    "\n",
    "ss = 'https://arxiv.org/search/?query=The+Grunwald+problem+and+homogeneous+spaces+with+non-solvable+stabilisers&searchtype=title&abstracts=show&order=-announced_date_first&size=50'"
   ]
  },
  {
   "cell_type": "code",
   "execution_count": 6,
   "id": "33ce9aea-e9c6-4274-b8c0-e00dc8cfb3c4",
   "metadata": {},
   "outputs": [],
   "source": [
    "pp = re.compile('<span class=\"abstract-full.*?>(.*?)<a', re.DOTALL)\n",
    "\n",
    "def get_arxiv(title):\n",
    "    \n",
    "    s_title = '+'.join(title.split() )\n",
    "    user_agent = {'User-Agent': \"Mozilla/5.0 (X11; CrOS x86_64 13099.62.0) AppleWebKit/537.36 (KHTML, like Gecko) Chrome/84.0.4147.83 Safari/537.36\"}\n",
    "    \n",
    "    params = {\"query\": s_title,\n",
    "              \"searchtype\" : \"title\",\n",
    "              \"abstract\" : \"show\",\n",
    "              \"order\" : \"-announced_date_first\",\n",
    "              \"size\" : \"50\"}\n",
    "    \n",
    "    r = requests.get(url= \"https://arxiv.org/search\",\n",
    "                 headers = user_agent,\n",
    "                 params = params\n",
    "                )\n",
    "    if r.status_code == 200 :\n",
    "        return r\n",
    "    else:\n",
    "        return None"
   ]
  },
  {
   "cell_type": "markdown",
   "id": "c5b5516a-142c-4383-a631-db5fb0436791",
   "metadata": {},
   "source": [
    "## Usage "
   ]
  },
  {
   "cell_type": "code",
   "execution_count": 7,
   "id": "f4c49c6d-ea7e-4a19-b294-a29fd6128493",
   "metadata": {},
   "outputs": [
    {
     "name": "stdout",
     "output_type": "stream",
     "text": [
      "who would be a good referee for this article:\n",
      "\n",
      "Title: Skoda-Zeriahi type integrability and entropy compactness for some measure with $L^1$-density by \n",
      "\n",
      " In this paper, we prove the Skoda-Zeriahi type integrability theorem with respect to some measure with $L^1$-density. In addition, we introduce the log-log threshold in order to detect singularities of Kähler potentials. We prove the positivity of the integrability threshold for such a measure and Kähler potentials with uniform log-log threshold. As an application, we prove the entropy compactness theorem for a family of potential functions of Poincaré type Kähler metrics with uniform log-log threshold. The Ohsawa-Takegoshi $L^2$-extension theorem and Skoda-Zeriahi&#39;s integrability theorem play a very important role in this paper.\n"
     ]
    }
   ],
   "source": [
    "tt = \"Right-angled Artin subgroups and free products in one-relator groups\"\n",
    "tt = 'Skoda-Zeriahi type integrability and entropy compactness for some measure with $L^1$-density by '\n",
    "\n",
    "xx = get_arxiv(tt)\n",
    "\n",
    "print(f'who would be a good referee for this article:\\n\\nTitle: {tt}\\n\\n {pp.search(xx.text).group(1).strip()}')"
   ]
  },
  {
   "cell_type": "markdown",
   "id": "b41a1810-dd7a-4cd9-bf7d-b727d9f68491",
   "metadata": {},
   "source": [
    "# MSC classification\n",
    "\n",
    "easily scraped as follows"
   ]
  },
  {
   "cell_type": "code",
   "execution_count": 2,
   "id": "8c83aefb-55f0-4bc1-8404-2e18e44904f9",
   "metadata": {},
   "outputs": [],
   "source": [
    "import re\n",
    "import requests\n",
    "url = 'https://cran.r-project.org/web/classifications/MSC.html'\n",
    "r = requests.get(url=url)\n",
    "with open('./MSC Classification Codes.mhtml','w') as fp:\n",
    "    fp.write(r.text)"
   ]
  },
  {
   "cell_type": "code",
   "execution_count": 3,
   "id": "53e8f98a-2a4c-40c4-804f-eef3ca78b5d8",
   "metadata": {},
   "outputs": [],
   "source": [
    "with open('./MSC Classification Codes.mhtml','r') as fp:\n",
    "    data = fp.read()"
   ]
  },
  {
   "cell_type": "markdown",
   "id": "5e0e432e-ef0f-40ea-b09e-67da20088b62",
   "metadata": {},
   "source": [
    "01A72: Schools of mathematics</li>"
   ]
  },
  {
   "cell_type": "code",
   "execution_count": 62,
   "id": "411bbc3e-357c-426b-9d12-aabbe9d52ec5",
   "metadata": {},
   "outputs": [],
   "source": [
    "kpp = re.compile(r'(\\d{2}[A-Z]\\d{2}):\\s+(.*?)<')\n",
    "codes = dict(kpp.findall(data))"
   ]
  },
  {
   "cell_type": "code",
   "execution_count": 63,
   "id": "4fd646a7-a444-4ae3-8916-4f104edded53",
   "metadata": {},
   "outputs": [
    {
     "data": {
      "text/plain": [
       "'Elliptic curves over global fields'"
      ]
     },
     "execution_count": 63,
     "metadata": {},
     "output_type": "execute_result"
    }
   ],
   "source": [
    "codes['11G05']"
   ]
  },
  {
   "cell_type": "code",
   "execution_count": 70,
   "id": "cb3ca7ad-d42a-41b2-902f-d0fadc2f6320",
   "metadata": {},
   "outputs": [
    {
     "data": {
      "text/plain": [
       "[('51A05', 'General theory and projective geometries'),\n",
       " ('51A10', 'Homomorphism, automorphism and dualities'),\n",
       " ('51A15', 'Structures with parallelism'),\n",
       " ('51A20', 'Configuration theorems'),\n",
       " ('51A25', 'Algebraization'),\n",
       " ('51A30', 'Desarguesian and Pappian geometries'),\n",
       " ('51A35', 'Non-Desarguesian affine and projective planes'),\n",
       " ('51A40', 'Translation planes and spreads'),\n",
       " ('51A45', 'Incidence structures imbeddable into projective geometries'),\n",
       " ('51A50', 'Polar geometry, symplectic spaces, orthogonal spaces'),\n",
       " ('51A99', 'None of the above, but in this section'),\n",
       " ('51B05', 'General theory'),\n",
       " ('51B10', 'M&ouml;bius geometries'),\n",
       " ('51B15', 'Laguerre geometries'),\n",
       " ('51B20', 'Minkowski geometries'),\n",
       " ('51B25', 'Lie geometries'),\n",
       " ('51B99', 'None of the above, but in this section'),\n",
       " ('51C05', 'Ring geometry (Hjelmslev, Barbilian, etc.)'),\n",
       " ('51D05', 'Abstract (Maeda) geometries'),\n",
       " ('51D10', 'Abstract geometries with exchange axiom'),\n",
       " ('51D15', 'Abstract geometries with parallelism'),\n",
       " ('51D20', 'Combinatorial geometries'),\n",
       " ('51D25', 'Lattices of subspaces'),\n",
       " ('51D30', 'Continuous geometries and related topics'),\n",
       " ('51D99', 'None of the above, but in this section'),\n",
       " ('51E05', 'General block designs'),\n",
       " ('51E10', 'Steiner systems'),\n",
       " ('51E12', 'Generalized quadrangles, generalized polygons'),\n",
       " ('51E14', 'Finite partial geometries (general), nets, partial spreads'),\n",
       " ('51E15', 'Affine and projective planes'),\n",
       " ('51E20', 'Combinatorial structures in finite projective spaces'),\n",
       " ('51E21', 'Blocking sets, ovals, $k$-arcs'),\n",
       " ('51E22', 'Linear codes and caps in Galois spaces'),\n",
       " ('51E23', 'Spreads and packing problems'),\n",
       " ('51E24', 'Buildings and the geometry of diagrams'),\n",
       " ('51E25', 'Other finite nonlinear geometries'),\n",
       " ('51E26', 'Other finite linear geometries'),\n",
       " ('51E30', 'Other finite incidence structures'),\n",
       " ('51E99', 'None of the above, but in this section'),\n",
       " ('51F05', 'Absolute planes'),\n",
       " ('51F10', 'Absolute spaces'),\n",
       " ('51F15', 'Reflection groups, reflection geometries'),\n",
       " ('51F20', 'Congruence and orthogonality'),\n",
       " ('51F25', 'Orthogonal and unitary groups'),\n",
       " ('51F99', 'None of the above, but in this section'),\n",
       " ('51G05', 'Ordered geometries (ordered incidence structures, etc.)'),\n",
       " ('51H05', 'General theory'),\n",
       " ('51H10', 'Topological linear incidence structures'),\n",
       " ('51H15', 'Topological nonlinear incidence structures'),\n",
       " ('51H20', 'Topological geometries on manifolds'),\n",
       " ('51H25', 'Geometries with differentiable structure'),\n",
       " ('51H30', 'Geometries with algebraic manifold structure'),\n",
       " ('51H99', 'None of the above, but in this section'),\n",
       " ('51J05', 'General theory'),\n",
       " ('51J10', 'Projective incidence groups'),\n",
       " ('51J15', 'Kinematic spaces'),\n",
       " ('51J20', 'Representation by near-fields and near-algebras'),\n",
       " ('51J99', 'None of the above, but in this section'),\n",
       " ('51K05', 'General theory'),\n",
       " ('51K10', 'Synthetic differential geometry'),\n",
       " ('51K99', 'None of the above, but in this section'),\n",
       " ('51L05', 'Geometry of orders of nondifferentiable curves'),\n",
       " ('51L10', 'Directly differentiable curves'),\n",
       " ('51L15', '$n$-vertex theorems via direct methods'),\n",
       " ('51L20', 'Geometry of orders of surfaces'),\n",
       " ('51L99', 'None of the above, but in this section'),\n",
       " ('51M04', 'Elementary problems in Euclidean geometries'),\n",
       " ('51M05', 'Euclidean geometries (general) and generalizations'),\n",
       " ('51M09', 'Elementary problems in hyperbolic and elliptic geometries'),\n",
       " ('51M10', 'Hyperbolic and elliptic geometries (general) and generalizations'),\n",
       " ('51M15', 'Geometric constructions'),\n",
       " ('51M16', 'Inequalities and extremum problems'),\n",
       " ('51M20', 'Polyhedra and polytopes; regular figures, division of spaces'),\n",
       " ('51M25', 'Length, area and volume'),\n",
       " ('51M30', 'Line geometries and their generalizations'),\n",
       " ('51M35',\n",
       "  'Synthetic treatment of fundamental manifolds in projective geometries (Grassmannians, Veronesians and their generalizations)'),\n",
       " ('51M99', 'None of the above, but in this section'),\n",
       " ('51N05', 'Descriptive geometry'),\n",
       " ('51N10', 'Affine analytic geometry'),\n",
       " ('51N15', 'Projective analytic geometry'),\n",
       " ('51N20', 'Euclidean analytic geometry'),\n",
       " ('51N25', 'Analytic geometry with other transformation groups'),\n",
       " ('51N30', 'Geometry of classical groups'),\n",
       " ('51N35', 'Questions of classical algebraic geometry'),\n",
       " ('51N99', 'None of the above, but in this section'),\n",
       " ('51P05',\n",
       "  'Geometry and physics (should also be assigned at least one other classification number from Sections 70--86)'),\n",
       " ('52A01', 'Axiomatic and generalized convexity'),\n",
       " ('52A05', 'Convex sets without dimension restrictions'),\n",
       " ('52A07', 'Convex sets in topological vector spaces'),\n",
       " ('52A10', 'Convex sets in $2$ dimensions (including convex curves)'),\n",
       " ('52A15', 'Convex sets in $3$ dimensions (including convex surfaces)'),\n",
       " ('52A20', 'Convex sets in $n$ dimensions (including convex hypersurfaces)'),\n",
       " ('52A21',\n",
       "  'Finite-dimensional Banach spaces (including special norms, zonoids, etc.)'),\n",
       " ('52A22', 'Random convex sets and integral geometry'),\n",
       " ('52A27', 'Approximation by convex sets'),\n",
       " ('52A30', 'Variants of convex sets (star-shaped, ($m, n$)-convex, etc.)'),\n",
       " ('52A35', 'Helly-type theorems and geometric transversal theory'),\n",
       " ('52A37', 'Other problems of combinatorial convexity'),\n",
       " ('52A38', 'Length, area, volume'),\n",
       " ('52A39', 'Mixed volumes and related topics')]"
      ]
     },
     "execution_count": 70,
     "metadata": {},
     "output_type": "execute_result"
    }
   ],
   "source": [
    "[ (_,codes[_])for _ in codes.keys() if _[0] == '5'][:100]"
   ]
  },
  {
   "cell_type": "markdown",
   "id": "987e57d1-3f02-4d84-b557-fc67108e5639",
   "metadata": {},
   "source": [
    "---\n",
    "\n",
    "# Mining a PDF for references \n"
   ]
  },
  {
   "cell_type": "code",
   "execution_count": 9,
   "id": "48b86b0b-7b68-40ca-9e10-a285b42a5160",
   "metadata": {},
   "outputs": [],
   "source": [
    "import os\n",
    "from io import StringIO\n",
    "import re\n",
    "from pdfminer.pdfinterp import PDFResourceManager, PDFPageInterpreter\n",
    "from pdfminer.converter import TextConverter\n",
    "from pdfminer.layout import LAParams\n",
    "from pdfminer.pdfpage import PDFPage\n",
    "\n",
    "\n",
    "def pdf_to_text(path):\n",
    "    '''Extract text from pdf documents\n",
    "    '''\n",
    "\n",
    "    manager = PDFResourceManager()\n",
    "    retstr = StringIO()\n",
    "    layout = LAParams(all_texts=False, detect_vertical=True)\n",
    "    device = TextConverter(manager, retstr, laparams=layout)\n",
    "    interpreter = PDFPageInterpreter(manager, device)\n",
    "    with open(path, 'rb') as filepath:\n",
    "        for page in PDFPage.get_pages(filepath, check_extractable=True):\n",
    "            interpreter.process_page(page)\n",
    "    text = retstr.getvalue()\n",
    "    device.close()\n",
    "    retstr.close()\n",
    "    return text"
   ]
  },
  {
   "cell_type": "code",
   "execution_count": 57,
   "id": "32b78dd5-d295-4656-a921-4406cbfef681",
   "metadata": {},
   "outputs": [],
   "source": [
    "import os\n",
    "base = os.environ['HOME']  + '/'\n",
    "pdfs = [_ for _ in os.listdir(base) if _[-3:] == 'pdf']\n",
    "fn = base + pdfs[-2]\n",
    "tt = pdf_to_text(fn)"
   ]
  },
  {
   "cell_type": "code",
   "execution_count": 58,
   "id": "7d321c63-a671-41f5-9900-3cc3348eaaba",
   "metadata": {},
   "outputs": [
    {
     "data": {
      "text/plain": [
       "'SOME GEOMETRIC APPLICATIONS OF THE DISCRETE HEAT FLOW\\n\\nALEXANDROS ESKENAZIS\\n\\nAbstract. We present two geometric applications of heat ﬂow methods on the discrete hyper-\\ncube {−1,1}n. First, we prove that if X is a ﬁnite-dimensional normed space, then the bi-Lipschitz\\ndistortion required to embed {−1,1}n equipped with the Hamming metric into X satisﬁes\\n\\n(cid:16){−1,1}n(cid:17) (cid:38) sup\\n\\ncX\\n\\np∈[1,2]\\n\\nn\\n\\nTp(X)min{n,dim(X)}1/p\\n\\n,\\n\\nwhere Tp(X) is the Rademacher type p constant of X. This estimate yields a mutual reﬁnement\\nof distortion lower bounds which follow from works of Oleszkiewicz (1996) and Ivanisvili, van\\nHandel and Volberg (2020) for low-dimensional spaces X. The proof relies on an extension of\\nan important inequality of Pisier (1986) on the biased hypercube combined with an application\\nof the Borsuk–Ulam theorem from algebraic topology. Secondly, we introduce a new metric\\ninvariant called metric stable type as a functional inequality on the discrete hypercube and prove\\nthat it'"
      ]
     },
     "execution_count": 58,
     "metadata": {},
     "output_type": "execute_result"
    }
   ],
   "source": [
    "tt[:1000]"
   ]
  },
  {
   "cell_type": "code",
   "execution_count": 23,
   "id": "bd6833e3-d9ef-4e83-904c-46929f2296ee",
   "metadata": {},
   "outputs": [],
   "source": [
    "#a  reference in the biblio has the form\n",
    "#[number](space)(Initial)(text up top next [)\n",
    "rp = re.compile(r'(\\[\\d+\\]\\s+[A-Z][^\\[]*)',re.DOTALL)\n",
    "dp = re.compile(r'\\d{4}')"
   ]
  },
  {
   "cell_type": "code",
   "execution_count": 72,
   "id": "8179c06a-0665-493f-a144-fdef626ea542",
   "metadata": {},
   "outputs": [],
   "source": [
    "#tt = re.sub(r'\\[','\\[\\[',tt)\n",
    "raw_refs = rp.findall(tt)\n",
    "unhyphenated = [re.sub('\\-[\\n]','',_) for _ in  raw_refs[:] ]\n",
    "clean_refs = [re.sub('[\\n]+',' ',_) for _ in  unhyphenated ]\n",
    "\n",
    "ref_texts = '\\n\\n'.join(clean_refs)\n",
    "#should clean up the names so just have ascii characters\n",
    "ref_texts = re.sub('[¨]','',ref_texts)\n",
    "\n",
    "nums = [dp.findall(_) for _ in clean_refs]\n",
    "dates = [ [x for x in _ if 1900 < int(x) < 2024] for _ in nums]\n",
    "dates = [ _ for _ in dates if _ ]\n",
    "dates = [ max(_) for _ in dates ]"
   ]
  },
  {
   "cell_type": "code",
   "execution_count": 75,
   "id": "005b92e3-0143-4510-bea6-d1647403818c",
   "metadata": {},
   "outputs": [
    {
     "data": {
      "text/plain": [
       "['[16] DARIO CORDERO-ERAUSQUIN AND ALEXANDROS ESKENAZIS. DISCRETE LOGARITHMIC SOBOLEV INEQUALITIES IN BANACH SPACES. PREPRINT AVAILABLE AT HTTPS://ARXIV.ORG/ABS/2304.03878, 2023. ',\n",
       " '[17] DARIO CORDERO-ERAUSQUIN AND ALEXANDROS ESKENAZIS. TALAGRAND’S INFLUENCE INEQUALITY REVISITED. ANAL. PDE, 16(2):571–612, 2023. ',\n",
       " '[22] ALEXANDROS ESKENAZIS. ON PISIER’S INEQUALITY FOR UMD TARGETS. CANAD. MATH. BULL., 64(2):282–291, 2021. ',\n",
       " '[23] ALEXANDROS ESKENAZIS, MANOR MENDEL, AND ASSAF NAOR. DIAMOND CONVEXITY: A BIFURCATION IN THE RIBE PROGRAM. PREPRINT, 2023. ']"
      ]
     },
     "execution_count": 75,
     "metadata": {},
     "output_type": "execute_result"
    }
   ],
   "source": [
    "name = 'ESKENAZIS'\n",
    "\n",
    "px = re.compile(f'\\[\\d+\\].*?{name}.*')\n",
    "px.findall(ref_texts.upper())[:-1]"
   ]
  },
  {
   "cell_type": "markdown",
   "id": "8c86fa3d-50b2-4a2d-ab87-c2d5df1b04b0",
   "metadata": {},
   "source": [
    "---\n",
    "\n",
    "# Do stats on the dates "
   ]
  },
  {
   "cell_type": "code",
   "execution_count": 26,
   "id": "b4eb9ad0-2d58-41d5-b146-90718f2ee716",
   "metadata": {},
   "outputs": [],
   "source": [
    "import matplotlib.pyplot as plt"
   ]
  },
  {
   "cell_type": "code",
   "execution_count": 73,
   "id": "f30158ca-4690-43e7-9d54-370685950874",
   "metadata": {},
   "outputs": [
    {
     "data": {
      "image/png": "[encoded data removed]",
      "text/plain": [
       "<Figure size 640x480 with 1 Axes>"
      ]
     },
     "metadata": {},
     "output_type": "display_data"
    }
   ],
   "source": [
    "dates.sort()\n",
    "plt.hist(dates, bins = 20);"
   ]
  },
  {
   "cell_type": "code",
   "execution_count": 2,
   "id": "231925f1-52a2-4756-8834-9671f86ddd98",
   "metadata": {},
   "outputs": [
    {
     "data": {
      "text/plain": [
       "2"
      ]
     },
     "execution_count": 2,
     "metadata": {},
     "output_type": "execute_result"
    }
   ],
   "source": [
    "\n",
    "1 + 1"
   ]
  },
  {
   "cell_type": "code",
   "execution_count": 15,
   "id": "837f2f7d-2156-44a0-a755-863dde8a2dfd",
   "metadata": {},
   "outputs": [],
   "source": [
    "uu = ss[: ss.find('# Retours #')]"
   ]
  },
  {
   "cell_type": "code",
   "execution_count": 3,
   "id": "6f7708fb-cacd-4268-a6d7-40ba8619e7ef",
   "metadata": {},
   "outputs": [],
   "source": [
    "import re"
   ]
  },
  {
   "cell_type": "code",
   "execution_count": 17,
   "id": "13bd7f5a-0fdb-48ce-a2e0-33d3266b31c8",
   "metadata": {},
   "outputs": [],
   "source": [
    "pp = re.compile('202\\d+')"
   ]
  },
  {
   "cell_type": "code",
   "execution_count": 18,
   "id": "d1f5d4ad-8a21-4f60-b4fb-8f999ea0b61f",
   "metadata": {},
   "outputs": [],
   "source": [
    "L = pp.findall(uu)\n",
    "L = [ _ for _ in L if len(_) > 4]"
   ]
  },
  {
   "cell_type": "code",
   "execution_count": 20,
   "id": "ea65d373-1073-47af-bf52-682bd043da72",
   "metadata": {},
   "outputs": [
    {
     "data": {
      "text/plain": [
       "51"
      ]
     },
     "execution_count": 20,
     "metadata": {},
     "output_type": "execute_result"
    }
   ],
   "source": [
    "len(pp)"
   ]
  },
  {
   "cell_type": "code",
   "execution_count": null,
   "id": "1616e6a3-d07d-4d7d-92aa-62ab3c3871a5",
   "metadata": {},
   "outputs": [],
   "source": []
  }
 ],
 "metadata": {
  "kernelspec": {
   "display_name": "Python 3 (ipykernel)",
   "language": "python",
   "name": "python3"
  },
  "language_info": {
   "codemirror_mode": {
    "name": "ipython",
    "version": 3
   },
   "file_extension": ".py",
   "mimetype": "text/x-python",
   "name": "python",
   "nbconvert_exporter": "python",
   "pygments_lexer": "ipython3",
   "version": "3.11.5"
  }
 },
 "nbformat": 4,
 "nbformat_minor": 5
}
