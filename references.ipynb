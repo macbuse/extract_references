{
 "cells": [
  {
   "cell_type": "markdown",
   "id": "6ac342e0-eae2-4475-a7ee-9c6ffde0e7f0",
   "metadata": {},
   "source": [
    "# Scripts for editors\n",
    "\n",
    "- lookup a title on the **arxiv** and return an abstract\n",
    "- get the **MSC** classifications\n",
    "- get references from a PDF and do some stats\n",
    "\n"
   ]
  },
  {
   "cell_type": "code",
   "execution_count": 1,
   "id": "aacb12ff-0cc7-4325-9ccb-40821bbcd8a7",
   "metadata": {},
   "outputs": [],
   "source": [
    "import requests\n",
    "import re"
   ]
  },
  {
   "cell_type": "markdown",
   "id": "569c781b-84f5-4085-8e31-e59e2231b4c8",
   "metadata": {},
   "source": [
    "#  Lookup arxiv\n",
    "\n",
    "\n",
    "Do an **arxiv** search for the title and attempt to return the abstract\n",
    "\n",
    "ss = 'https://arxiv.org/search/?query=The+Grunwald+problem+and+homogeneous+spaces+with+non-solvable+stabilisers&searchtype=title&abstracts=show&order=-announced_date_first&size=50'"
   ]
  },
  {
   "cell_type": "code",
   "execution_count": 86,
   "id": "33ce9aea-e9c6-4274-b8c0-e00dc8cfb3c4",
   "metadata": {},
   "outputs": [],
   "source": [
    "pabs = re.compile('<span class=\"abstract-full.*?>(.*?)<a', re.DOTALL)\n",
    "\n",
    "def get_arxiv(title):\n",
    "    \n",
    "    s_title = '+'.join(title.split() )\n",
    "    user_agent = {'User-Agent': \"Mozilla/5.0 (X11; CrOS x86_64 13099.62.0) AppleWebKit/537.36 (KHTML, like Gecko) Chrome/84.0.4147.83 Safari/537.36\"}\n",
    "    \n",
    "    params = {\"query\": s_title,\n",
    "              \"searchtype\" : \"title\",\n",
    "              \"abstract\" : \"show\",\n",
    "              \"order\" : \"-announced_date_first\",\n",
    "              \"size\" : \"50\"}\n",
    "    \n",
    "    r = requests.get(url= \"https://arxiv.org/search\",\n",
    "                 headers = user_agent,\n",
    "                 params = params\n",
    "                )\n",
    "    if r.status_code == 200 :\n",
    "        return r\n",
    "    else:\n",
    "        return None"
   ]
  },
  {
   "cell_type": "markdown",
   "id": "c5b5516a-142c-4383-a631-db5fb0436791",
   "metadata": {},
   "source": [
    "## Usage "
   ]
  },
  {
   "cell_type": "code",
   "execution_count": 87,
   "id": "f4c49c6d-ea7e-4a19-b294-a29fd6128493",
   "metadata": {},
   "outputs": [
    {
     "name": "stdout",
     "output_type": "stream",
     "text": [
      "who would be a good referee for this article:\n",
      "\n",
      "Title: SOME GEOMETRIC APPLICATIONS OF THE DISCRETE HEAT FLOW\n",
      "\n",
      " We present two geometric applications of heat flow methods on the discrete hypercube $\\{-1,1\\}^n$. First, we prove that if $X$ is a finite-dimensional normed space, then the bi-Lipschitz distortion required to embed $\\{-1,1\\}^n$ equipped with the Hamming metric into $X$ satisfies $$\\mathsf{c}_X\\big(\\{-1,1\\}^n\\big) \\gtrsim \\sup_{p\\in[1,2]} \\frac{n}{\\mathsf{T}_p(X) \\min\\{n,\\mathrm{dim}(X)\\}^{1/p}},$$ where $\\mathsf{T}_p(X)$ is the Rademacher type $p$ constant of $X$. This estimate yields a mutual refinement of distortion lower bounds which follow from works of Oleszkiewicz (1996) and Ivanisvili, van Handel and Volberg (2020) for low-dimensional spaces $X$. The proof relies on an extension of an important inequality of Pisier (1986) on the biased hypercube combined with an application of the Borsuk-Ulam theorem from algebraic topology. Secondly, we introduce a new metric invariant called metric stable type as a functional inequality on the discrete hypercube and prove that it coincides with the classical linear notion of stable type for normed spaces. We also show that metric stable type yields bi-Lipschitz nonembeddability estimates for weighted hypercubes.\n"
     ]
    }
   ],
   "source": [
    "tt = \"Right-angled Artin subgroups and free products in one-relator groups\"\n",
    "tt = 'SOME GEOMETRIC APPLICATIONS OF THE DISCRETE HEAT FLOW'\n",
    "\n",
    "xx = get_arxiv(tt)\n",
    "\n",
    "print(f'who would be a good referee for this article:\\n\\nTitle: {tt}\\n\\n {pabs.search(xx.text).group(1).strip()}')"
   ]
  },
  {
   "cell_type": "markdown",
   "id": "b41a1810-dd7a-4cd9-bf7d-b727d9f68491",
   "metadata": {},
   "source": [
    "---\n",
    "\n",
    "\n",
    "# MSC classification\n",
    "\n",
    "easily scraped as follows\n",
    "\n",
    "actually you can pull them as a CSV from https://msc2020.org/ but it's not utf-8 encoded (see below)"
   ]
  },
  {
   "cell_type": "code",
   "execution_count": 2,
   "id": "8c83aefb-55f0-4bc1-8404-2e18e44904f9",
   "metadata": {},
   "outputs": [],
   "source": [
    "import re\n",
    "import requests\n",
    "url = 'https://cran.r-project.org/web/classifications/MSC.html'\n",
    "r = requests.get(url=url)\n",
    "with open('./MSC Classification Codes.mhtml','w') as fp:\n",
    "    fp.write(r.text)"
   ]
  },
  {
   "cell_type": "code",
   "execution_count": 3,
   "id": "53e8f98a-2a4c-40c4-804f-eef3ca78b5d8",
   "metadata": {},
   "outputs": [],
   "source": [
    "with open('./MSC Classification Codes.mhtml','r') as fp:\n",
    "    data = fp.read()"
   ]
  },
  {
   "cell_type": "markdown",
   "id": "5e0e432e-ef0f-40ea-b09e-67da20088b62",
   "metadata": {},
   "source": [
    "01A72: Schools of mathematics</li>"
   ]
  },
  {
   "cell_type": "code",
   "execution_count": 62,
   "id": "411bbc3e-357c-426b-9d12-aabbe9d52ec5",
   "metadata": {},
   "outputs": [],
   "source": [
    "kpp = re.compile(r'(\\d{2}[A-Z]\\d{2}):\\s+(.*?)<')\n",
    "codes = dict(kpp.findall(data))"
   ]
  },
  {
   "cell_type": "code",
   "execution_count": 63,
   "id": "4fd646a7-a444-4ae3-8916-4f104edded53",
   "metadata": {},
   "outputs": [
    {
     "data": {
      "text/plain": [
       "'Elliptic curves over global fields'"
      ]
     },
     "execution_count": 63,
     "metadata": {},
     "output_type": "execute_result"
    }
   ],
   "source": [
    "codes['11G05']"
   ]
  },
  {
   "cell_type": "code",
   "execution_count": 32,
   "id": "cb3ca7ad-d42a-41b2-902f-d0fadc2f6320",
   "metadata": {},
   "outputs": [],
   "source": [
    "with open('./MSC_2020.csv','rb') as fp:\n",
    "    ss = fp.read().decode(errors='replace')\n",
    "\n",
    "mscp = re.compile('\"(\\d{2}.*?\\d{2})\"\\s+\"(.*?)\"')\n",
    "MSC = dict(mscp.findall(ss))\n"
   ]
  },
  {
   "cell_type": "code",
   "execution_count": 33,
   "id": "6d1c457c-2c80-4ce2-9c91-d9e84bc5417a",
   "metadata": {},
   "outputs": [
    {
     "data": {
      "text/plain": [
       "'Elliptic curves over global fields'"
      ]
     },
     "execution_count": 33,
     "metadata": {},
     "output_type": "execute_result"
    }
   ],
   "source": [
    "MSC['11G05']"
   ]
  },
  {
   "cell_type": "markdown",
   "id": "888c6a90-5df1-4a7e-b01c-e4ff5f7821fc",
   "metadata": {},
   "source": [
    "https://arxiv.org/search/?query=46B85&searchtype=msc_class&source=header"
   ]
  },
  {
   "cell_type": "code",
   "execution_count": 44,
   "id": "635ee329-544c-468d-9d8a-24a6cd4093b7",
   "metadata": {},
   "outputs": [],
   "source": [
    "def get_arxiv_msc(code):\n",
    "    \n",
    "    user_agent = {'User-Agent': \"Mozilla/5.0 (X11; CrOS x86_64 13099.62.0) AppleWebKit/537.36 (KHTML, like Gecko) Chrome/84.0.4147.83 Safari/537.36\"}\n",
    "    \n",
    "    params = {\"query\": code,\n",
    "              \"searchtype\" : \"msc_class\",\n",
    "              \"source\" : \"header\"\n",
    "             }\n",
    "    \n",
    "    r = requests.get(url= \"https://arxiv.org/search\",\n",
    "                 headers = user_agent,\n",
    "                 params = params\n",
    "                )\n",
    "    if r.status_code == 200 :\n",
    "        return r\n",
    "    else:\n",
    "        return None"
   ]
  },
  {
   "cell_type": "code",
   "execution_count": 45,
   "id": "60a42c91-57ee-4c1e-b483-46937f6484de",
   "metadata": {},
   "outputs": [],
   "source": [
    "r  = get_arxiv_msc(\"11G05\")"
   ]
  },
  {
   "cell_type": "markdown",
   "id": "7fde7368-8acf-404f-8cbc-13d30db7539b",
   "metadata": {},
   "source": [
    "<p class=\"title is-5 mathjax\">\n",
    "      \n",
    "        Metric Dimension and Resolvability of Jaccard Spaces\n",
    "      \n",
    "    </p>\n",
    "    <p class=\"authors\">\n",
    "      <span class=\"has-text-black-bis has-text-weight-semibold\">Authors:</span>\n",
    "      \n",
    "      <a href=\"/search/?searchtype=author&amp;query=Lladser%2C+M+E\">Manuel E. Lladser</a>, \n",
    "      \n",
    "      <a href=\"/search/?searchtype=author&amp;query=Paradise%2C+A+J\">Alexander J. Paradise</a>\n",
    "      \n",
    "    </p>"
   ]
  },
  {
   "cell_type": "code",
   "execution_count": 62,
   "id": "ba91143b-f642-4636-8285-a4888c55c6f1",
   "metadata": {},
   "outputs": [],
   "source": [
    "ppart = re.compile(r'<p class=\"title.*?>(.*?)</p>.*?Authors:</span>(.*?)</p>',re.DOTALL)\n",
    "titles, auts  = list(zip(*ppart.findall(r.text)))"
   ]
  },
  {
   "cell_type": "code",
   "execution_count": 68,
   "id": "2df8fac5-cd91-4af9-a74e-377a84790351",
   "metadata": {},
   "outputs": [
    {
     "data": {
      "text/plain": [
       "[['Pratiksha Shingavekar'],\n",
       " ['Katharina Müller', 'Anwesh Ray'],\n",
       " ['Yifeng Liu', 'Yichao Tian', 'Liang Xiao'],\n",
       " ['Naoto Dainobu'],\n",
       " ['Ben Kane', 'Sudhir Pujahari', 'Zichen Yang']]"
      ]
     },
     "execution_count": 68,
     "metadata": {},
     "output_type": "execute_result"
    }
   ],
   "source": [
    "titles = [_.strip() for _ in titles]\n",
    "paut = re.compile(r'>(.*?)</')\n",
    "[paut.findall(_) for _ in auts][:5]\n"
   ]
  },
  {
   "cell_type": "code",
   "execution_count": 67,
   "id": "66fc3d0d-6589-49ec-98b9-651230c909f5",
   "metadata": {},
   "outputs": [
    {
     "data": {
      "text/plain": [
       "'Sesquilinear pairings on elliptic curves'"
      ]
     },
     "execution_count": 67,
     "metadata": {},
     "output_type": "execute_result"
    }
   ],
   "source": [
    "titles[5]"
   ]
  },
  {
   "cell_type": "markdown",
   "id": "987e57d1-3f02-4d84-b557-fc67108e5639",
   "metadata": {},
   "source": [
    "---\n",
    "\n",
    "# Mining a PDF for references \n",
    "\n",
    "- pull the MSC codes\n",
    "- scrape the references using re/regex\n",
    "- do some stats on dates and check for author names\n"
   ]
  },
  {
   "cell_type": "code",
   "execution_count": 34,
   "id": "45e757d9-aa8a-4248-8ed7-853fa335ed51",
   "metadata": {},
   "outputs": [
    {
     "name": "stdout",
     "output_type": "stream",
     "text": [
      "[{'Producer': b'pdfTeX-1.40.22', 'Author': b'', 'Title': b'', 'Subject': b'', 'Creator': b'LaTeX with hyperref', 'Keywords': b'', 'CreationDate': b\"D:20231003101034+02'00'\", 'ModDate': b\"D:20231003101034+02'00'\", 'Trapped': /'False', 'PTEX.Fullbanner': b'This is pdfTeX, Version 3.141592653-2.6-1.40.22 (TeX Live 2021) kpathsea version 6.3.3'}]\n"
     ]
    }
   ],
   "source": []
  },
  {
   "cell_type": "code",
   "execution_count": 18,
   "id": "48b86b0b-7b68-40ca-9e10-a285b42a5160",
   "metadata": {},
   "outputs": [],
   "source": [
    "import os\n",
    "from io import StringIO\n",
    "import re\n",
    "from pdfminer.pdfinterp import PDFResourceManager, PDFPageInterpreter\n",
    "from pdfminer.converter import TextConverter\n",
    "from pdfminer.layout import LAParams\n",
    "from pdfminer.pdfpage import PDFPage\n",
    "\n",
    "\n",
    "def pdf_to_text(path):\n",
    "    '''Extract text from pdf documents\n",
    "    '''\n",
    "\n",
    "    manager = PDFResourceManager()\n",
    "    retstr = StringIO()\n",
    "    layout = LAParams(all_texts=False, detect_vertical=True)\n",
    "    device = TextConverter(manager, retstr, laparams=layout)\n",
    "    interpreter = PDFPageInterpreter(manager, device)\n",
    "    with open(path, 'rb') as filepath:\n",
    "        for page in PDFPage.get_pages(filepath, check_extractable=True):\n",
    "            interpreter.process_page(page)\n",
    "    text = retstr.getvalue()\n",
    "    device.close()\n",
    "    retstr.close()\n",
    "    return text"
   ]
  },
  {
   "cell_type": "code",
   "execution_count": 36,
   "id": "4bae3919-89e2-41e5-b188-e4db3127e43b",
   "metadata": {},
   "outputs": [
    {
     "name": "stdout",
     "output_type": "stream",
     "text": [
      "[{'Author': b'', 'Title': b'', 'Subject': b'', 'Creator': b'LaTeX with hyperref package', 'Producer': b'pdfTeX-1.40.18', 'Keywords': b'', 'CreationDate': b\"D:20230522164711+02'00'\", 'ModDate': b\"D:20230522164711+02'00'\", 'Trapped': /'False', 'PTEX.Fullbanner': b'This is pdfTeX, Version 3.14159265-2.6-1.40.18 (TeX Live 2017) kpathsea version 6.2.3'}]\n"
     ]
    }
   ],
   "source": [
    "from pdfminer.pdfparser import PDFParser\n",
    "from pdfminer.pdfdocument import PDFDocument\n",
    "\n",
    "fp = open(fn, 'rb')\n",
    "parser = PDFParser(fp)\n",
    "doc = PDFDocument(parser)\n",
    "\n",
    "print(doc.info)  # The \"Info\" metadata"
   ]
  },
  {
   "cell_type": "code",
   "execution_count": 35,
   "id": "32b78dd5-d295-4656-a921-4406cbfef681",
   "metadata": {},
   "outputs": [],
   "source": [
    "import os\n",
    "base = os.environ['HOME']  + '/'\n",
    "pdfs = [_ for _ in os.listdir(base) if _[-3:] == 'pdf']\n",
    "\n",
    "fn = base + pdfs[-1]"
   ]
  },
  {
   "cell_type": "code",
   "execution_count": 27,
   "id": "15332b01-451a-45c9-b65b-e9471ff57590",
   "metadata": {},
   "outputs": [],
   "source": [
    "art_txt = pdf_to_text(fn)\n",
    "with open(fn.split('/')[-1][:-3] + '.tex','w') as fp:\n",
    "    fp.write(art_txt)"
   ]
  },
  {
   "cell_type": "code",
   "execution_count": 29,
   "id": "bd6833e3-d9ef-4e83-904c-46929f2296ee",
   "metadata": {},
   "outputs": [],
   "source": [
    "#a  reference in the biblio has the form\n",
    "#[number](space)(Initial)(text up to next occurence of [)\n",
    "rp = re.compile(r'(\\[\\d+\\]\\s+[A-Z][^\\[]*)',re.DOTALL)\n",
    "dp = re.compile(r'\\d{4}')\n",
    "pmrc = re.compile(r'\\d{2}[A-Z]+\\d{2}')"
   ]
  },
  {
   "cell_type": "code",
   "execution_count": 37,
   "id": "e0248dc1-f686-4817-897b-62ce1e56a1de",
   "metadata": {},
   "outputs": [
    {
     "data": {
      "text/plain": [
       "['11N37 Asymptotic results on arithmetic functions',\n",
       " '11R20 Other abelian and metabelian extensions',\n",
       " '11R34 Galois cohomology']"
      ]
     },
     "execution_count": 37,
     "metadata": {},
     "output_type": "execute_result"
    }
   ],
   "source": [
    "mscs = pmrc.findall(art_txt)\n",
    "# this should never fail now we have MSC 2020 in csv\n",
    "[_ + ' ' +  MSC[_] for _ in mscs ]"
   ]
  },
  {
   "cell_type": "code",
   "execution_count": 38,
   "id": "8179c06a-0665-493f-a144-fdef626ea542",
   "metadata": {},
   "outputs": [],
   "source": [
    "#tt = re.sub(r'\\[','\\[\\[',tt)\n",
    "raw_refs = rp.findall(art_txt)\n",
    "unhyphenated = [re.sub('\\-[\\n]','',_) for _ in  raw_refs[:] ]\n",
    "clean_refs = [re.sub('[\\n]+',' ',_) for _ in  unhyphenated ]\n",
    "\n",
    "ref_texts = '\\n\\n'.join(clean_refs)\n",
    "#should clean up the names so just have ascii characters\n",
    "ref_texts = re.sub('[¨]','',ref_texts)\n",
    "\n",
    "nums = [dp.findall(_) for _ in clean_refs]\n",
    "dates = [ [x for x in _ if 1900 < int(x) < 2024] for _ in nums]\n",
    "dates = [ _ for _ in dates if _ ]\n",
    "dates = [ max(_) for _ in dates ]"
   ]
  },
  {
   "cell_type": "code",
   "execution_count": 109,
   "id": "005b92e3-0143-4510-bea6-d1647403818c",
   "metadata": {},
   "outputs": [
    {
     "data": {
      "text/plain": [
       "['[22] P. KOYMANS AND C. PAGANO, ON THE DISTRIBUTION OF CL(K)']"
      ]
     },
     "execution_count": 109,
     "metadata": {},
     "output_type": "execute_result"
    }
   ],
   "source": [
    "name = 'KOYMANS'\n",
    "\n",
    "px = re.compile(f'\\[\\d+\\].*?{name}.*')\n",
    "px.findall(ref_texts.upper())[:-1]"
   ]
  },
  {
   "cell_type": "markdown",
   "id": "8c86fa3d-50b2-4a2d-ab87-c2d5df1b04b0",
   "metadata": {},
   "source": [
    "---\n",
    "\n",
    "# Do stats on the dates "
   ]
  },
  {
   "cell_type": "code",
   "execution_count": 40,
   "id": "b4eb9ad0-2d58-41d5-b146-90718f2ee716",
   "metadata": {},
   "outputs": [],
   "source": [
    "import matplotlib.pyplot as plt"
   ]
  },
  {
   "cell_type": "code",
   "execution_count": 41,
   "id": "f30158ca-4690-43e7-9d54-370685950874",
   "metadata": {},
   "outputs": [
    {
     "data": {
      "image/png": "[encoded data removed]",
      "text/plain": [
       "<Figure size 640x480 with 1 Axes>"
      ]
     },
     "metadata": {},
     "output_type": "display_data"
    }
   ],
   "source": [
    "dates.sort()\n",
    "plt.hist(dates, bins = 20);"
   ]
  },
  {
   "cell_type": "code",
   "execution_count": 16,
   "id": "f0e82241-1690-4105-ba99-1038d0a5adff",
   "metadata": {},
   "outputs": [],
   "source": []
  },
  {
   "cell_type": "code",
   "execution_count": null,
   "id": "92009185-ccdf-4819-a965-7835a1cee79a",
   "metadata": {},
   "outputs": [],
   "source": []
  },
  {
   "cell_type": "code",
   "execution_count": null,
   "id": "6c8a95e0-306d-4e48-9557-e7af48f91e2d",
   "metadata": {},
   "outputs": [],
   "source": []
  }
 ],
 "metadata": {
  "kernelspec": {
   "display_name": "Python 3 (ipykernel)",
   "language": "python",
   "name": "python3"
  },
  "language_info": {
   "codemirror_mode": {
    "name": "ipython",
    "version": 3
   },
   "file_extension": ".py",
   "mimetype": "text/x-python",
   "name": "python",
   "nbconvert_exporter": "python",
   "pygments_lexer": "ipython3",
   "version": "3.11.5"
  }
 },
 "nbformat": 4,
 "nbformat_minor": 5
}
